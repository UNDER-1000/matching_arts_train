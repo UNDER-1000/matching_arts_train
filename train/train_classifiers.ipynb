{
 "cells": [
  {
   "cell_type": "code",
   "id": "initial_id",
   "metadata": {
    "collapsed": true,
    "ExecuteTime": {
     "end_time": "2025-05-10T17:50:59.452922Z",
     "start_time": "2025-05-10T17:50:59.450287Z"
    }
   },
   "source": [
    "from sklearn.linear_model import LogisticRegression\n",
    "import numpy as np\n",
    "import os\n",
    "from embeddings import get_embeddings\n",
    "from sklearn.metrics import accuracy_score\n",
    "from sklearn.linear_model import LinearRegression\n",
    "import polars as pl\n",
    "from sklearn.metrics import confusion_matrix\n",
    "import seaborn as sns\n",
    "from sklearn.metrics import classification_report\n",
    "from PIL import Image\n",
    "import numpy as np\n",
    "import matplotlib.pyplot as plt\n",
    "from sklearn.model_selection import train_test_split\n",
    "import pickle"
   ],
   "outputs": [],
   "execution_count": 51
  },
  {
   "metadata": {},
   "cell_type": "markdown",
   "source": "## no count balance & no relative balance",
   "id": "f289b7a0ab3e9e1e"
  },
  {
   "metadata": {},
   "cell_type": "markdown",
   "source": "## count balance",
   "id": "53a71b1ed75ccafb"
  },
  {
   "metadata": {},
   "cell_type": "markdown",
   "source": [
    " לא חייבים לעשות באלאנס. רק בגלל שהדאטה עכשיו לא טוב עשיתי באלאנס. \n",
    " ל"
   ],
   "id": "f7343ed643bb3283"
  },
  {
   "metadata": {
    "ExecuteTime": {
     "end_time": "2025-05-10T17:52:34.937175Z",
     "start_time": "2025-05-10T17:52:34.925400Z"
    }
   },
   "cell_type": "code",
   "source": [
    "column_name = ['noisy', 'abstract', 'paint'][2]\n",
    "\n",
    "csv_path = '/Users/yuda/PycharmProjects/matching_arts_v3/data/eli_votes.csv'\n",
    "images_folder = '/Users/yuda/Desktop/vs_code_projects/data/'\n",
    "\n",
    "# Load and filter\n",
    "df = pl.read_csv(csv_path)\n",
    "\n",
    "# Filter to only filled and non-null target\n",
    "df = df.filter(\n",
    "    (pl.col(\"filled\") == True) &\n",
    "    (pl.col(column_name).is_not_null())\n",
    ")\n",
    "\n",
    "# Add file paths\n",
    "df = df.with_columns([\n",
    "    (pl.col(\"image_id\").cast(str) + \".jpg\").alias(\"file_name\"),\n",
    "    (pl.lit(images_folder) + \"/\" + pl.col(\"image_id\").cast(str) + \".jpg\").alias(\"file_path\")\n",
    "])\n",
    "\n",
    "# Convert to lists\n",
    "X_all = df[\"file_path\"].to_list()\n",
    "y_all = df[column_name].cast(int).to_list()\n",
    "\n",
    "# Ensure equal class distribution by balancing the classes\n",
    "unique_classes = np.unique(y_all)\n",
    "min_class_count = min([y_all.count(i) for i in unique_classes])  # Find the class with the minimum count\n",
    "\n",
    "# Create balanced dataset by sampling from each class\n",
    "X_balanced = []\n",
    "y_balanced = []\n",
    "\n",
    "for class_label in unique_classes:\n",
    "    # Get indices for each class\n",
    "    indices = [i for i, label in enumerate(y_all) if label == class_label]\n",
    "    \n",
    "    # Randomly sample the same number of examples for each class based on the smallest class count\n",
    "    sampled_indices = np.random.choice(indices, min_class_count, replace=False)\n",
    "    \n",
    "    # Add the sampled data to the balanced list\n",
    "    X_balanced.extend([X_all[i] for i in sampled_indices])\n",
    "    y_balanced.extend([y_all[i] for i in sampled_indices])\n",
    "\n",
    "# Now we have a balanced dataset\n",
    "X_balanced = np.array(X_balanced)\n",
    "y_balanced = np.array(y_balanced)\n",
    "\n",
    "# Stratified split of the balanced data\n",
    "X_train_names, X_test_names, y_train_list, y_test_list = train_test_split(\n",
    "    X_balanced, y_balanced, train_size=0.8, stratify=y_balanced, random_state=42\n",
    ")\n",
    "\n",
    "print(f\"Train size: {len(X_train_names)}\")\n",
    "print(f\"Test size: {len(X_test_names)}\")\n",
    "print(f\"Train class distribution: {dict(zip(*np.unique(y_train_list, return_counts=True)))}\")\n",
    "print(f\"Test class distribution: {dict(zip(*np.unique(y_test_list, return_counts=True)))}\")\n"
   ],
   "id": "27a575a02ac52174",
   "outputs": [
    {
     "name": "stdout",
     "output_type": "stream",
     "text": [
      "Train size: 184\n",
      "Test size: 46\n",
      "Train class distribution: {1: 37, 2: 37, 3: 37, 4: 36, 5: 37}\n",
      "Test class distribution: {1: 9, 2: 9, 3: 9, 4: 10, 5: 9}\n"
     ]
    }
   ],
   "execution_count": 54
  },
  {
   "metadata": {
    "ExecuteTime": {
     "end_time": "2025-05-10T17:53:08.741193Z",
     "start_time": "2025-05-10T17:52:35.488039Z"
    }
   },
   "cell_type": "code",
   "source": [
    "X_train_list = get_embeddings(X_train_names)\n",
    "X_test_list = get_embeddings(X_test_names)"
   ],
   "id": "e95888d819c0f0a5",
   "outputs": [],
   "execution_count": 55
  },
  {
   "metadata": {
    "ExecuteTime": {
     "end_time": "2025-05-10T17:53:08.744458Z",
     "start_time": "2025-05-10T17:53:08.742240Z"
    }
   },
   "cell_type": "code",
   "source": [
    "X_train: np.ndarray = np.array(X_train_list)\n",
    "y_train: np.ndarray = np.array(y_train_list) / 5\n",
    "\n",
    "X_test: np.ndarray = np.array(X_test_list)\n",
    "y_test: np.ndarray = np.array(y_test_list) / 5"
   ],
   "id": "a93308cf73fb5b8",
   "outputs": [],
   "execution_count": 56
  },
  {
   "metadata": {
    "ExecuteTime": {
     "end_time": "2025-05-10T17:53:08.900515Z",
     "start_time": "2025-05-10T17:53:08.745147Z"
    }
   },
   "cell_type": "code",
   "source": [
    "# clf = LogisticRegression(random_state=0).fit(X_train, y_train)\n",
    "clf = LinearRegression().fit(X_train, y_train)\n",
    "predictions = clf.predict(X_test)\n",
    "predictions"
   ],
   "id": "daf670a25ad43a0f",
   "outputs": [
    {
     "data": {
      "text/plain": [
       "array([0.69023403, 0.15915575, 0.09881608, 0.71176059, 0.89167015,\n",
       "       0.19567376, 0.68265832, 0.58352681, 0.63813604, 0.8922714 ,\n",
       "       0.28882555, 0.42838461, 0.58100467, 0.71838065, 0.71730122,\n",
       "       0.81083011, 0.45227434, 0.89837141, 0.39629056, 0.871421  ,\n",
       "       0.44338541, 0.52141948, 0.89323791, 0.55612716, 0.58379694,\n",
       "       0.95920925, 0.35462178, 0.98651435, 0.42957192, 0.74636115,\n",
       "       0.73664287, 1.04556817, 0.49544142, 0.35438148, 0.06143322,\n",
       "       0.70954213, 0.73903554, 0.35836353, 0.84287307, 0.47138616,\n",
       "       0.93453238, 0.63383883, 0.9829853 , 0.42377184, 1.        ,\n",
       "       0.83410124])"
      ]
     },
     "execution_count": 57,
     "metadata": {},
     "output_type": "execute_result"
    }
   ],
   "execution_count": 57
  },
  {
   "metadata": {
    "ExecuteTime": {
     "end_time": "2025-05-10T17:53:08.938443Z",
     "start_time": "2025-05-10T17:53:08.905276Z"
    }
   },
   "cell_type": "code",
   "source": [
    "train_predictions = clf.predict(X_train)\n",
    "train_predictions = np.where(train_predictions < 0.5, 0, 1)\n",
    "y_train_binary = np.where(y_train < 0.5, 0, 1)\n",
    "\n",
    "accuracy = accuracy_score(y_train_binary, train_predictions)\n",
    "print(\"Train Accuracy:\", accuracy)"
   ],
   "id": "2d658dd15299b44d",
   "outputs": [
    {
     "name": "stdout",
     "output_type": "stream",
     "text": [
      "Train Accuracy: 1.0\n"
     ]
    }
   ],
   "execution_count": 58
  },
  {
   "metadata": {
    "ExecuteTime": {
     "end_time": "2025-05-10T17:53:08.974132Z",
     "start_time": "2025-05-10T17:53:08.943215Z"
    }
   },
   "cell_type": "code",
   "source": [
    "test_predictions = clf.predict(X_test)\n",
    "test_predictions = np.where(test_predictions < 0.5, 0, 1)\n",
    "y_test_binary = np.where(y_test < 0.5, 0, 1)\n",
    "\n",
    "accuracy = accuracy_score(y_test_binary, test_predictions)\n",
    "print(\"Test Accuracy:\", accuracy)"
   ],
   "id": "612757940688c67b",
   "outputs": [
    {
     "name": "stdout",
     "output_type": "stream",
     "text": [
      "Test Accuracy: 0.6956521739130435\n"
     ]
    }
   ],
   "execution_count": 59
  },
  {
   "metadata": {
    "ExecuteTime": {
     "end_time": "2025-05-10T17:53:08.984250Z",
     "start_time": "2025-05-10T17:53:08.979543Z"
    }
   },
   "cell_type": "code",
   "source": [
    "with open('/Users/yuda/PycharmProjects/matching_arts_v3/data/linear_regression_paint.pkl', 'wb') as file:\n",
    "    pickle.dump(clf, file)"
   ],
   "id": "89e400656e759ce0",
   "outputs": [],
   "execution_count": 60
  },
  {
   "metadata": {
    "ExecuteTime": {
     "end_time": "2025-05-10T17:50:18.137812Z",
     "start_time": "2025-05-10T17:50:18.132732Z"
    }
   },
   "cell_type": "code",
   "source": [
    "\n",
    "def show_images(images_list, prediction, target):\n",
    "    \"\"\"\n",
    "    Display images with their predictions and target labels.\n",
    "    Supports both image file paths and numpy arrays.\n",
    "    \"\"\"\n",
    "\n",
    "    num_images = len(images_list)\n",
    "    cols = min(5, num_images)\n",
    "    rows = (num_images // cols) + (num_images % cols > 0)\n",
    "\n",
    "    fig, axes = plt.subplots(rows, cols, figsize=(cols * 3, rows * 3))\n",
    "    axes = axes.flatten() if num_images > 1 else [axes]\n",
    "\n",
    "    for i in range(num_images):\n",
    "        # Load image if it's a file path (string)\n",
    "        img = Image.open(images_list[i]) if isinstance(images_list[i], str) else images_list[i]\n",
    "        img = np.array(img)  # Convert to NumPy array for `imshow`\n",
    "\n",
    "        axes[i].imshow(img, cmap=\"gray\" if len(img.shape) == 2 else None)\n",
    "        axes[i].axis(\"off\")\n",
    "        axes[i].set_title(f\"Pred: {prediction[i]}\\nTarget: {target[i]}\", fontsize=10)\n",
    "\n",
    "    plt.tight_layout()\n",
    "    plt.show()"
   ],
   "id": "2530a05046f35b16",
   "outputs": [],
   "execution_count": 49
  },
  {
   "metadata": {},
   "cell_type": "code",
   "outputs": [],
   "execution_count": null,
   "source": "show_images(X_test_names[:10], list(predictions)[:10], y_test_list[:10])",
   "id": "c39bddab6ef4854f"
  },
  {
   "metadata": {},
   "cell_type": "code",
   "outputs": [],
   "execution_count": null,
   "source": "",
   "id": "f6a3fce18f323faa"
  },
  {
   "metadata": {
    "ExecuteTime": {
     "end_time": "2025-04-07T10:39:12.258495Z",
     "start_time": "2025-04-07T10:39:12.255663Z"
    }
   },
   "cell_type": "code",
   "source": [
    "# 0.47, 0.64\n",
    "# 0.63, 0.68\n",
    "# 0.52, 0.56"
   ],
   "id": "164ef9f196213b5b",
   "outputs": [],
   "execution_count": 10
  }
 ],
 "metadata": {
  "kernelspec": {
   "display_name": "Python 3",
   "language": "python",
   "name": "python3"
  },
  "language_info": {
   "codemirror_mode": {
    "name": "ipython",
    "version": 2
   },
   "file_extension": ".py",
   "mimetype": "text/x-python",
   "name": "python",
   "nbconvert_exporter": "python",
   "pygments_lexer": "ipython2",
   "version": "2.7.6"
  }
 },
 "nbformat": 4,
 "nbformat_minor": 5
}
